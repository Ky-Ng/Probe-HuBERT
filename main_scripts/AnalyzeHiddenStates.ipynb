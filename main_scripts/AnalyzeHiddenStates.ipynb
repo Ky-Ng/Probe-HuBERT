{
 "cells": [
  {
   "cell_type": "markdown",
   "metadata": {},
   "source": [
    "# Analyze Hidden States\n",
    "- Calculating how differentiatable features(vector indexes) are between minimal pairs of tense/lax pairs"
   ]
  },
  {
   "cell_type": "markdown",
   "metadata": {},
   "source": [
    "# 1) Load in Segmentation per Dialect\n",
    "- Take each phoneme segmentation for each dialect\n",
    "- Randomly sample a 100 samples 20 times for analysis"
   ]
  }
 ],
 "metadata": {
  "language_info": {
   "name": "python"
  }
 },
 "nbformat": 4,
 "nbformat_minor": 2
}
